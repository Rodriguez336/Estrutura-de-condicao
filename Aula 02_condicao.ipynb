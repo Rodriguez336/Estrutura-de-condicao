{
 "cells": [
  {
   "cell_type": "code",
   "execution_count": null,
   "metadata": {},
   "outputs": [],
   "source": [
    "idade = int(input('Digite a idade'))\n",
    "\n",
    "if idade >= 18:\n",
    "    print('Maior de idade')\n",
    "    \n",
    "else:\n",
    "    print('Menor de idade')"
   ]
  },
  {
   "cell_type": "code",
   "execution_count": 7,
   "metadata": {},
   "outputs": [
    {
     "name": "stdout",
     "output_type": "stream",
     "text": [
      "NULO\n"
     ]
    }
   ],
   "source": [
    "numero = int(input('Digite um numero'))\n",
    "\n",
    "if  numero > 0:\n",
    "    print('Positivo')\n",
    "    \n",
    "elif numero < 0:\n",
    "    print('Negativo')\n",
    "    \n",
    "else:\n",
    "    print('NULO')"
   ]
  },
  {
   "cell_type": "code",
   "execution_count": 2,
   "metadata": {},
   "outputs": [
    {
     "name": "stdout",
     "output_type": "stream",
     "text": [
      "Idade Válida\n"
     ]
    }
   ],
   "source": [
    "idade = int(input('Informe a idade entre 18 e 30'))\n",
    "\n",
    "if idade >= 18 and idade <= 30:\n",
    "   print('Idade Válida')\n",
    "   \n",
    "else: \n",
    "    print('Idade Inválida')"
   ]
  },
  {
   "cell_type": "code",
   "execution_count": 6,
   "metadata": {},
   "outputs": [
    {
     "name": "stdout",
     "output_type": "stream",
     "text": [
      "O número 30 é par\n"
     ]
    }
   ],
   "source": [
    "##Exercício 05 - Crie uma variável chamada \"numero\" e atribua um valor inteiro a ela. Verifique se o número é par ou ímpar e imprima a mensagem correspondente.\n",
    "\n",
    "numero = int(input('Informe um número inteiro'))\n",
    "\n",
    "resto = numero % 2\n",
    "\n",
    "if resto == 0 :\n",
    "   print(f'O número {numero} é par')\n",
    "   \n",
    "else: \n",
    "    print(f'O número {numero} é ímpar')"
   ]
  },
  {
   "cell_type": "code",
   "execution_count": 13,
   "metadata": {},
   "outputs": [
    {
     "name": "stdout",
     "output_type": "stream",
     "text": [
      "O horário 18 é noite\n"
     ]
    }
   ],
   "source": [
    "#Exercício 06 - Crie uma variável chamada \"horario\" e atribua um valor inteiro representando a hora do dia (em formato 24 horas). Verifique se o horário está dentro do período da manhã (das 6h às 12h), da tarde \n",
    "# (das 12h às 18h) ou da noite (das 18h às 23h) e imprima a mensagem correspondente.\n",
    "\n",
    "\n",
    "horario = int(input('Informe um horário'))\n",
    "\n",
    "\n",
    "if  horario >= 6 and horario < 12:\n",
    "   print(f'O horário {horario} é manha')\n",
    "   \n",
    "elif horario >= 12 and horario < 18: \n",
    "    print(f'O horário {horario} é tarde')\n",
    "    \n",
    "elif horario >= 18 and horario <= 23:\n",
    "    print(f'O horário {horario} é noite')\n",
    "\n",
    "else: \n",
    "    print(f'O horário {horario} é madrugada')\n",
    "    \n",
    "    \n"
   ]
  },
  {
   "cell_type": "code",
   "execution_count": null,
   "metadata": {},
   "outputs": [],
   "source": [
    "##Exercício 07 -Crie uma variável chamada \"peso\" e atribua um valor numérico a ela. Verifique se o peso está dentro do intervalo de 50 a 100 (inclusive) e imprima a mensagem \"Peso válido\" \n",
    "# ou \"Peso inválido\" de acordo com a condição.\n",
    "\n",
    "peso = float(input('Informe um peso de um produto'))\n",
    "\n",
    "if peso >= 50 and peso <= 100:\n",
    "   print(f'O peso do produto é {peso}, portanto é válido')\n",
    "   \n",
    "else:\n",
    "   print(f'O peso do produto é {peso}, portanto é inválido')"
   ]
  },
  {
   "cell_type": "code",
   "execution_count": 22,
   "metadata": {},
   "outputs": [
    {
     "name": "stdout",
     "output_type": "stream",
     "text": [
      "Este número não é multiplo de 3 e 5.\n"
     ]
    }
   ],
   "source": [
    "\n",
    "#Exercício 08 - Crie uma variável chamada \"numero\" e atribua um valor inteiro a ela. Verifique se o número é múltiplo de 3 e de 5 ao mesmo tempo e imprima a mensagem correspondente.\n",
    "\n",
    "numero = int(input('Informe um número'))\n",
    "\n",
    "\n",
    "if  (numero % 3 == 0) and (numero % 5 == 0):\n",
    "   print(f'O número {numero} é , multiplo de 3 e 5.')\n",
    "\n",
    "else: \n",
    "    print('Este número não é multiplo de 3 e 5.')\n",
    "    "
   ]
  },
  {
   "cell_type": "code",
   "execution_count": 26,
   "metadata": {},
   "outputs": [
    {
     "name": "stdout",
     "output_type": "stream",
     "text": [
      "O ano 1950 não é bissexto.\n"
     ]
    }
   ],
   "source": [
    "#Exercício 09 - Crie uma variável chamada \"ano\" e atribua um valor inteiro representando um ano. Verifique se o ano é bissexto (divisível por 4, mas não por 100, \n",
    "# exceto se for divisível por 400) e imprima a mensagem correspondente.\n",
    "\n",
    "ano = int(input('Informe um ano.'))\n",
    "\n",
    "if (ano % 4 == 0 and ano % 100 != 0) or ano % 400 == 0:\n",
    "    print(f'O ano {ano} é bissexto.')\n",
    "\n",
    "else: \n",
    "    print(f'O ano {ano} não é bissexto.')"
   ]
  },
  {
   "cell_type": "code",
   "execution_count": 28,
   "metadata": {},
   "outputs": [
    {
     "name": "stdout",
     "output_type": "stream",
     "text": [
      "Aprovado com distinção! Sua média é 10.0.\n"
     ]
    }
   ],
   "source": [
    "#Exercício 15 - Faça um programa para a leitura de duas notas parciais de um aluno. O\n",
    "#programa deve calcular a média alcançada por aluno e apresentar:\n",
    "#• A mensagem \"Aprovado\", se a média alcançada for maior ou igual a sete;\n",
    "#• A mensagem \"Reprovado\", se a média for menor do que sete;\n",
    "#• A mensagem \"Aprovado com Distinção\", se a média for igual a dez.\n",
    "\n",
    "nota1 = float(input('Informe a primeira nota'))\n",
    "nota2 = float(input('Informe a segunda nota'))\n",
    "\n",
    "media = (nota1 + nota2)/2\n",
    "\n",
    "if media == 10:\n",
    "    print(f'Aprovado com distinção! Sua média é {media}.')\n",
    "    \n",
    "elif media >= 7:\n",
    "    print(f'Aprovado! Sua média é {media}.')\n",
    "    \n",
    "elif media < 7:\n",
    "    print(f'Reprovado! Sua média é {media}.')\n",
    "    \n",
    "\n",
    "\n"
   ]
  },
  {
   "cell_type": "code",
   "execution_count": 29,
   "metadata": {},
   "outputs": [
    {
     "name": "stdout",
     "output_type": "stream",
     "text": [
      "O maior valor é 30\n"
     ]
    }
   ],
   "source": [
    "#Exercício 16 - Faça um Programa que leia três números e mostre o maior deles.\n",
    "\n",
    "num1 = int(input('Digite o primeiro valor'))\n",
    "num2 = int(input('Digite o segundo valor'))\n",
    "num3 = int(input('Digite o terceiro valor'))\n",
    "\n",
    "if num1 > num2 and num1 > num3:\n",
    "    print(f'O maior valor é {num1}')\n",
    "    \n",
    "elif num2 > num1 and num2 > num3:\n",
    "    print(f'O maior valor é {num2}')\n",
    "    \n",
    "elif num3 > num2 and num3 > num1:\n",
    "    print(f'O maior valor é {num3}')\n",
    "    \n",
    "else:\n",
    "    print('Informe três valores diferentes!')\n"
   ]
  },
  {
   "cell_type": "code",
   "execution_count": 2,
   "metadata": {},
   "outputs": [
    {
     "name": "stdout",
     "output_type": "stream",
     "text": [
      "O maior valor é 30\n",
      "O menor valor é 10\n"
     ]
    }
   ],
   "source": [
    "#Exercício 16 - Faça um Programa que leia três números e mostre o maior deles.\n",
    "\n",
    "num1 = int(input('Digite o primeiro valor'))\n",
    "num2 = int(input('Digite o segundo valor'))\n",
    "num3 = int(input('Digite o terceiro valor'))\n",
    "\n",
    "if num1 > num2 and num1 > num3:\n",
    "    print(f'O maior valor é {num1}')\n",
    "    \n",
    "elif num2 > num1 and num2 > num3:\n",
    "    print(f'O maior valor é {num2}')\n",
    "    \n",
    "elif num3 > num2 and num3 > num1:\n",
    "    print(f'O maior valor é {num3}')\n",
    "    \n",
    "    \n",
    "if num1 < num2 and num1 < num3:\n",
    "    print(f'O menor valor é {num1}')\n",
    "    \n",
    "elif num2 < num1 and num2 < num3:\n",
    "    print(f'O menor valor é {num2}')\n",
    "    \n",
    "elif num3 < num2 and num3 < num1:\n",
    "    print(f'O menor valor é {num3}')\n",
    "\n",
    "\n",
    "\n"
   ]
  }
 ],
 "metadata": {
  "kernelspec": {
   "display_name": "Python 3",
   "language": "python",
   "name": "python3"
  },
  "language_info": {
   "codemirror_mode": {
    "name": "ipython",
    "version": 3
   },
   "file_extension": ".py",
   "mimetype": "text/x-python",
   "name": "python",
   "nbconvert_exporter": "python",
   "pygments_lexer": "ipython3",
   "version": "3.11.0"
  }
 },
 "nbformat": 4,
 "nbformat_minor": 2
}
